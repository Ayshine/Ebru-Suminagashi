{
 "cells": [
  {
   "cell_type": "code",
   "execution_count": 13,
   "metadata": {},
   "outputs": [],
   "source": [
    "# Import libraries necessary for this project\n",
    "import pandas as pd\n",
    "import matplotlib.pyplot as plt\n",
    "# Pretty display for notebooks\n",
    "%matplotlib inline"
   ]
  },
  {
   "cell_type": "code",
   "execution_count": 14,
   "metadata": {},
   "outputs": [],
   "source": [
    "df = pd.read_csv('results.csv')"
   ]
  },
  {
   "cell_type": "code",
   "execution_count": 15,
   "metadata": {},
   "outputs": [
    {
     "data": {
      "text/html": [
       "<div>\n",
       "<style scoped>\n",
       "    .dataframe tbody tr th:only-of-type {\n",
       "        vertical-align: middle;\n",
       "    }\n",
       "\n",
       "    .dataframe tbody tr th {\n",
       "        vertical-align: top;\n",
       "    }\n",
       "\n",
       "    .dataframe thead th {\n",
       "        text-align: right;\n",
       "    }\n",
       "</style>\n",
       "<table border=\"1\" class=\"dataframe\">\n",
       "  <thead>\n",
       "    <tr style=\"text-align: right;\">\n",
       "      <th></th>\n",
       "      <th>Model_Name</th>\n",
       "      <th>Epoch</th>\n",
       "      <th>Training_Loss</th>\n",
       "      <th>Validation_Loss</th>\n",
       "      <th>Test_Loss</th>\n",
       "      <th>Test_Accuracy</th>\n",
       "    </tr>\n",
       "  </thead>\n",
       "  <tbody>\n",
       "    <tr>\n",
       "      <th>0</th>\n",
       "      <td>AlexNet</td>\n",
       "      <td>1</td>\n",
       "      <td>0.226</td>\n",
       "      <td>NaN</td>\n",
       "      <td>0.101</td>\n",
       "      <td>0.979</td>\n",
       "    </tr>\n",
       "    <tr>\n",
       "      <th>1</th>\n",
       "      <td>AlexNet</td>\n",
       "      <td>2</td>\n",
       "      <td>0.079</td>\n",
       "      <td>NaN</td>\n",
       "      <td>0.105</td>\n",
       "      <td>0.979</td>\n",
       "    </tr>\n",
       "    <tr>\n",
       "      <th>2</th>\n",
       "      <td>AlexNet</td>\n",
       "      <td>3</td>\n",
       "      <td>0.044</td>\n",
       "      <td>NaN</td>\n",
       "      <td>0.112</td>\n",
       "      <td>0.983</td>\n",
       "    </tr>\n",
       "    <tr>\n",
       "      <th>3</th>\n",
       "      <td>AlexNet</td>\n",
       "      <td>4</td>\n",
       "      <td>0.027</td>\n",
       "      <td>NaN</td>\n",
       "      <td>0.115</td>\n",
       "      <td>0.979</td>\n",
       "    </tr>\n",
       "    <tr>\n",
       "      <th>4</th>\n",
       "      <td>AlexNet</td>\n",
       "      <td>5</td>\n",
       "      <td>0.020</td>\n",
       "      <td>NaN</td>\n",
       "      <td>0.114</td>\n",
       "      <td>0.983</td>\n",
       "    </tr>\n",
       "  </tbody>\n",
       "</table>\n",
       "</div>"
      ],
      "text/plain": [
       "  Model_Name  Epoch  Training_Loss  Validation_Loss  Test_Loss  Test_Accuracy\n",
       "0    AlexNet      1          0.226              NaN      0.101          0.979\n",
       "1    AlexNet      2          0.079              NaN      0.105          0.979\n",
       "2    AlexNet      3          0.044              NaN      0.112          0.983\n",
       "3    AlexNet      4          0.027              NaN      0.115          0.979\n",
       "4    AlexNet      5          0.020              NaN      0.114          0.983"
      ]
     },
     "metadata": {},
     "output_type": "display_data"
    }
   ],
   "source": [
    "from IPython.display import display\n",
    "display(df.head())"
   ]
  },
  {
   "cell_type": "code",
   "execution_count": 16,
   "metadata": {},
   "outputs": [],
   "source": [
    "Model_Names = [\"AlexNet\",\"DenseNet\", \"VGG\",\"VGG_BN\", \"Simple_CNN_Resize\", \"Simple_CNN_CenterCrop\", \n",
    "               \"Multilayer_CNN_128_Resize\",\"Multilayer_CNN_256_Resize\", \"Multilayer_CNN_128_CenterCrop\",\n",
    "                \"Multilayer_CNN_256_CenterCrop\"]\n",
    "\n",
    "\n",
    "AlexNet = df[ df['Model_Name']==\"AlexNet\" ]\n",
    "DenseNet = df[ df['Model_Name']==\"DenseNet\" ]\n",
    "VGG = df[ df['Model_Name']==\"VGG\" ]\n",
    "VGG_BN = df[ df['Model_Name']==\"VGG_BN\" ]\n",
    "Simple_CNN_Resize = df[ (df['Model_Name']==\"Simple_CNN_Resize\") ]\n",
    "Simple_CNN_CenterCrop = df[ (df['Model_Name']==\"Simple_CNN_CenterCrop\") ]\n",
    "Multilayer_CNN_128_Resize = df[ (df['Model_Name']==\"Multilayer_CNN_128_Resize\") ]\n",
    "Multilayer_CNN_256_Resize = df[ (df['Model_Name']==\"Multilayer_CNN_256_Resize\") ]\n",
    "Multilayer_CNN_128_CenterCrop = df[ (df['Model_Name']==\"Multilayer_CNN_128_CenterCrop\") ]\n",
    "Multilayer_CNN_256_CenterCrop = df[ (df['Model_Name']==\"Multilayer_CNN_256_CenterCrop\") ]"
   ]
  },
  {
   "cell_type": "code",
   "execution_count": 17,
   "metadata": {},
   "outputs": [
    {
     "data": {
      "image/png": "[encoded data removed]",
      "text/plain": [
       "<Figure size 432x288 with 1 Axes>"
      ]
     },
     "metadata": {
      "needs_background": "light"
     },
     "output_type": "display_data"
    }
   ],
   "source": [
    "#plot test_accuracy for transfer learning\n",
    "AlexNet[\"Test_Accuracy\"].plot(label = 'AlexNet')\n",
    "DenseNet[\"Test_Accuracy\"].plot(label = 'DenseNet')\n",
    "VGG[\"Test_Accuracy\"].plot(label = 'VGG')\n",
    "VGG_BN[\"Test_Accuracy\"].plot(label = 'VGG_BN')\n",
    "plt.title(\"Transfer Learning Test Accuracy Results\")\n",
    "plt.xlabel('Epoch')\n",
    "plt.ylabel('Test_Accuracy')\n",
    "plt.legend()\n",
    "plt.show()"
   ]
  },
  {
   "cell_type": "code",
   "execution_count": null,
   "metadata": {},
   "outputs": [],
   "source": []
  }
 ],
 "metadata": {
  "kernelspec": {
   "display_name": "Python 3",
   "language": "python",
   "name": "python3"
  },
  "language_info": {
   "codemirror_mode": {
    "name": "ipython",
    "version": 3
   },
   "file_extension": ".py",
   "mimetype": "text/x-python",
   "name": "python",
   "nbconvert_exporter": "python",
   "pygments_lexer": "ipython3",
   "version": "3.7.1"
  }
 },
 "nbformat": 4,
 "nbformat_minor": 2
}
